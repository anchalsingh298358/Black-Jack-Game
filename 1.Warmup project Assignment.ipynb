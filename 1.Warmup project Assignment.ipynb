{
 "cells": [
  {
   "cell_type": "markdown",
   "metadata": {},
   "source": [
    "**Team information**\\\n",
    "Drashti Agarawal\\\n",
    "contact no.-9824424843\\\n",
    "email-drashtiagrawal9@gmail.com\n",
    "\n",
    "Anchal Singh\\\n",
    "contact no.-9682385677\\\n",
    "email-anchalsingh298358@gamil.com\n"
   ]
  },
  {
   "cell_type": "markdown",
   "metadata": {},
   "source": [
    "# SIMPLE  CARD WAR GAME"
   ]
  },
  {
   "cell_type": "markdown",
   "metadata": {},
   "source": [
    "Card war game is a simple game where two players are playing aganist each other.\n",
    "\n",
    "The rules of game are quite easy:\n",
    "\n",
    "The complete deck is distributed equally between two players(26 cards each) and then on card is removed from top of stack from each player's cards, the player with larger value of displayed card win both cards and also win that round. Immediate after that, next round starts and same thing repeat again until one of the player gets out of the cards.\n",
    "\n",
    "\n",
    "**Now Lets  work on the code of game**\\\n",
    "**Step 1:**\n",
    "first  reqiured imports are done.\n",
    "\n",
    "Some variables are defined which act as global variables."
   ]
  },
  {
   "cell_type": "code",
   "execution_count": 1,
   "metadata": {},
   "outputs": [],
   "source": [
    "import random   # random module import to shuffle the deck.\n",
    "# decleration of variables to be used as global.\n",
    "suits = ( 'Diamonds','Hearts',  'Clubs','Spades')\n",
    "ranks = ('A', '2', '3', '4', '5', '6', '7', '8', '9', '10', 'J', 'Q', 'K')\n",
    "values = {'2':2, '3':3, '4':4, '5':5, '6':6, '7':7, '8':8, '9':9, '10':10, 'J':10,\n",
    "         'Q':10, 'K':10, 'A':11}\n"
   ]
  },
  {
   "cell_type": "markdown",
   "metadata": {},
   "source": [
    "**Step 2:**\\\n",
    "Create a Card Class\n",
    "\n",
    "A card object really only needs two attributes: suit and rank.\n",
    "In addition to the Card’s   \\_\\_init\\_\\_ method, consider adding a  \\_\\_str\\_\\_ method that, when asked to print a Card, returns a string in the form “2 of Hearts”  \n"
   ]
  },
  {
   "cell_type": "code",
   "execution_count": 2,
   "metadata": {},
   "outputs": [],
   "source": [
    "class Card:\n",
    "    \n",
    "    def __init__(self,suit,rank):\n",
    "        self.suit = suit\n",
    "        self.rank = rank\n",
    "        self.value = values[rank]\n",
    "        \n",
    "    def __str__(self):\n",
    "        return self.rank + ' of ' + self.suit"
   ]
  },
  {
   "cell_type": "code",
   "execution_count": 3,
   "metadata": {},
   "outputs": [
    {
     "name": "stdout",
     "output_type": "stream",
     "text": [
      "('A', '2', '3', '4', '5', '6', '7', '8', '9', '10', 'J', 'Q', 'K')\n"
     ]
    },
    {
     "data": {
      "text/plain": [
       "('2', '3', '4', '5', '6', '7', '8', '9', '10', 'J', 'Q', 'K')"
      ]
     },
     "execution_count": 3,
     "metadata": {},
     "output_type": "execute_result"
    }
   ],
   "source": [
    "ranks[0] #accessing our varibles using index values.\n",
    "print(ranks)\n",
    "ranks[1:13:1]   # accessing range of values using syntax list(start,end,step)"
   ]
  },
  {
   "cell_type": "code",
   "execution_count": 4,
   "metadata": {},
   "outputs": [
    {
     "name": "stdout",
     "output_type": "stream",
     "text": [
      "dict_keys(['2', '3', '4', '5', '6', '7', '8', '9', '10', 'J', 'Q', 'K', 'A'])\n"
     ]
    },
    {
     "data": {
      "text/plain": [
       "dict_values([2, 3, 4, 5, 6, 7, 8, 9, 10, 10, 10, 10, 11])"
      ]
     },
     "execution_count": 4,
     "metadata": {},
     "output_type": "execute_result"
    }
   ],
   "source": [
    "print(values.keys())   # accessing the keys of dictionary values as defined above.\n",
    "values.keys()\n",
    "values.values()       #accessing the values of dictionary values as defined above."
   ]
  },
  {
   "cell_type": "markdown",
   "metadata": {},
   "source": [
    "\n",
    "**Step 3:** Create a Deck Class\n",
    "Here we might store 52 card objects in a list that can later be shuffled.\n",
    "\n",
    "**TESTING:** Just to see that everything works so far, let’s see what our Deck looks like!\n",
    "\n",
    "**x = Deck()**\n",
    "\n",
    "**print(x)**"
   ]
  },
  {
   "cell_type": "code",
   "execution_count": 5,
   "metadata": {},
   "outputs": [],
   "source": [
    "class Deck:\n",
    "    \n",
    "    def __init__(self):\n",
    "        # Note this only happens once upon creation of a new Deck\n",
    "        self.all_cards = [] \n",
    "        for suit in suits:\n",
    "            for rank in ranks:\n",
    "                # This assumes the Card class has already been defined!\n",
    "                self.all_cards.append(Card(suit,rank))\n",
    "                \n",
    "    def shuffle(self):\n",
    "        # Note this doesn't return anything\n",
    "        random.shuffle(self.all_cards)\n",
    "        \n",
    "    def deal_one(self):\n",
    "        # Note we remove one card from the list of all_cards\n",
    "        return self.all_cards.pop()        "
   ]
  },
  {
   "cell_type": "code",
   "execution_count": 6,
   "metadata": {},
   "outputs": [
    {
     "name": "stdout",
     "output_type": "stream",
     "text": [
      "<__main__.Deck object at 0x0000014F2D42EF88>\n",
      "<__main__.Deck object at 0x0000014F2D42E0C8>\n"
     ]
    }
   ],
   "source": [
    "x=Deck()   \n",
    "print(x)   #will print the memory address of Deck() class in system.\n",
    "print(Deck())"
   ]
  },
  {
   "cell_type": "markdown",
   "metadata": {},
   "source": [
    "**Step 4:**\\\n",
    "Let's create a Player Class, a player should be able to hold instances of Cards, they should also be able to remove and add them from their hand. We want the Player class to be flexible enough to add one card, or many cards so we'll use a simple if check to keep it all in the same method.\n",
    "\n",
    "We'll keep this all in mind as we create the methods for the Player class."
   ]
  },
  {
   "cell_type": "code",
   "execution_count": 7,
   "metadata": {},
   "outputs": [],
   "source": [
    "class Player:\n",
    "    \n",
    "    def __init__(self,name):\n",
    "        self.name = name\n",
    "        # A new player has no cards\n",
    "        self.all_cards = [] \n",
    "        \n",
    "    def remove_one(self):\n",
    "        # Note we remove one card from the list of all_cards\n",
    "        # We state 0 to remove from the \"top\" of the deck\n",
    "        # We'll imagine index -1 as the bottom of the deck\n",
    "        return self.all_cards.pop(0)\n",
    "    \n",
    "    def add_cards(self,new_cards):\n",
    "        if type(new_cards) == type([]):\n",
    "            self.all_cards.extend(new_cards)\n",
    "        else:\n",
    "            self.all_cards.append(new_cards)\n",
    "    \n",
    "    \n",
    "    def __str__(self):\n",
    "        return f'Player {self.name} has {len(self.all_cards)} cards.'"
   ]
  },
  {
   "cell_type": "code",
   "execution_count": 8,
   "metadata": {},
   "outputs": [
    {
     "name": "stdout",
     "output_type": "stream",
     "text": [
      "Player john has 0 cards.\n"
     ]
    }
   ],
   "source": [
    "x=Player('john')  #accessing player class.\n",
    "print(x)\n"
   ]
  },
  {
   "cell_type": "markdown",
   "metadata": {},
   "source": [
    "**Step 5:**\\\n",
    "Here we go with the game logic now by defining the players, calling for deck class, shuffling deck before distribution.Then for loop is used to iterate over the available cards at player."
   ]
  },
  {
   "cell_type": "code",
   "execution_count": 9,
   "metadata": {},
   "outputs": [],
   "source": [
    "player_one = Player(\"One\")\n",
    "player_two = Player(\"Two\")\n",
    "\n",
    "new_deck = Deck()\n",
    "new_deck.shuffle()\n",
    "\n",
    "for x in range(26):\n",
    "    player_one.add_cards(new_deck.deal_one())\n",
    "    player_two.add_cards(new_deck.deal_one())\n",
    "    \n",
    "game_on = True"
   ]
  },
  {
   "cell_type": "markdown",
   "metadata": {},
   "source": [
    "**Step 6:**\\\n",
    "The final step to create the control of game by inheriting the classes defined so far. This is best example how classes are important to us and how they reduce the large codes to simple and small sections."
   ]
  },
  {
   "cell_type": "code",
   "execution_count": 10,
   "metadata": {},
   "outputs": [
    {
     "name": "stdout",
     "output_type": "stream",
     "text": [
      "🙂🙂🙂🙂🙂🙂🙂🙂🙂🙂🙂🙂Welcome to Card war Game!🙂🙂🙂🙂🙂🙂🙂🙂🙂🙂🙂🙂🙂\n",
      "Round 1\n",
      "Player_one_card: 9. \n",
      "Player_B_card: 10. \n",
      "Player_two win!\n",
      "\n",
      "Round 2\n",
      "Player_one_card: 10. \n",
      "Player_B_card: 2. \n",
      "Player_one win!\n",
      "\n",
      "Round 3\n",
      "Player_one_card: 7. \n",
      "Player_B_card: 10. \n",
      "Player_two win!\n",
      "\n",
      "Round 4\n",
      "Player_one_card: 3. \n",
      "Player_B_card: 10. \n",
      "Player_two win!\n",
      "\n",
      "Round 5\n",
      "Player_one_card: 5. \n",
      "Player_B_card: 5. \n",
      "TIE!\n",
      "Player_two win!\n",
      "\n",
      "Round 6\n",
      "Player_one_card: 3. \n",
      "Player_B_card: 10. \n",
      "Player_two win!\n",
      "\n",
      "Round 7\n",
      "Player_one_card: 3. \n",
      "Player_B_card: 9. \n",
      "Player_two win!\n",
      "\n",
      "Round 8\n",
      "Player_one_card: 10. \n",
      "Player_B_card: 4. \n",
      "Player_one win!\n",
      "\n",
      "Round 9\n",
      "Player_one_card: 6. \n",
      "Player_B_card: 10. \n",
      "Player_two win!\n",
      "\n",
      "Round 10\n",
      "Player_one_card: 11. \n",
      "Player_B_card: 10. \n",
      "Player_one win!\n",
      "\n",
      "Round 11\n",
      "Player_one_card: 10. \n",
      "Player_B_card: 9. \n",
      "Player_one win!\n",
      "\n",
      "Round 12\n",
      "Player_one_card: 11. \n",
      "Player_B_card: 8. \n",
      "Player_one win!\n",
      "\n",
      "Round 13\n",
      "Player_one_card: 3. \n",
      "Player_B_card: 11. \n",
      "Player_two win!\n",
      "\n",
      "Round 14\n",
      "Player_one_card: 10. \n",
      "Player_B_card: 11. \n",
      "Player_two win!\n",
      "\n",
      "Round 15\n",
      "Player_one_card: 5. \n",
      "Player_B_card: 10. \n",
      "Player_two win!\n",
      "\n",
      "Round 16\n",
      "Player_one_card: 5. \n",
      "Player_B_card: 9. \n",
      "Player_two win!\n",
      "\n",
      "Round 17\n",
      "Player_one_card: 7. \n",
      "Player_B_card: 10. \n",
      "Player_two win!\n",
      "\n",
      "Round 18\n",
      "Player_one_card: 6. \n",
      "Player_B_card: 10. \n",
      "Player_two win!\n",
      "\n",
      "Round 19\n",
      "Player_one_card: 4. \n",
      "Player_B_card: 2. \n",
      "Player_one win!\n",
      "\n",
      "Round 20\n",
      "Player_one_card: 4. \n",
      "Player_B_card: 4. \n",
      "TIE!\n",
      "Player One out of cards, unable to play war! Game Over at War\n",
      "Player Two Win! Player One Loses!\n"
     ]
    }
   ],
   "source": [
    "#opening welcome statement for user.\n",
    "print('Welcome to Card war Game!'.center(50,\"\\N{slightly smiling face}\"))\n",
    "round_num = 0  #initialized to zero because no round played yet.\n",
    "while game_on:\n",
    "    \n",
    "    round_num += 1   # will eventually increment the rounds of game.\n",
    "    print(f\"Round {round_num}\")\n",
    "    \n",
    "    # Check to see if  player_one is out of cards:\n",
    "    if len(player_one.all_cards) == 0:\n",
    "        print(\"Player One out of cards! Game Over\")\n",
    "        print(\"Player_Two Win!\\n\")\n",
    "        game_on = False\n",
    "        break\n",
    "    # Check to see if  player_two is out of cards:     \n",
    "    if len(player_two.all_cards) == 0:\n",
    "        print(\"Player Two out of cards! Game Over\")\n",
    "        print(\"Player One Win!\\n\")\n",
    "        game_on = False\n",
    "        break\n",
    "    \n",
    "    # Otherwise, the game is still on!\n",
    "    \n",
    "    # Start a new round and reset current cards \"on the table\"\n",
    "    player_one_cards = []\n",
    "    player_one_cards.append(player_one.remove_one())\n",
    "   \n",
    "    player_two_cards = []\n",
    "    player_two_cards.append(player_two.remove_one())\n",
    "    #lets print the value of player card which is displayed in recent round.\n",
    "    print(\"Player_one_card: {}. \\nPlayer_B_card: {}. \".format(player_one_cards[-1].value,player_two_cards[-1].value))\n",
    "    at_war = True\n",
    "\n",
    "    while at_war:   # play begins here.\n",
    "\n",
    "\n",
    "        if player_one_cards[-1].value > player_two_cards[-1].value:  # compares values of cards of both playes and then return statement.\n",
    "\n",
    "            # Player One gets the cards\n",
    "           \n",
    "            print('Player_one win!\\n')\n",
    "            \n",
    "            # No Longer at \"war\" , time for next round\n",
    "            at_war = False\n",
    "        \n",
    "        # Player Two Has higher Card\n",
    "        elif player_one_cards[-1].value < player_two_cards[-1].value:\n",
    "\n",
    "            # Player Two gets the cards\n",
    "           \n",
    "            print('Player_two win!\\n')\n",
    "            # No Longer at \"war\" , time for next round\n",
    "            at_war = False\n",
    "\n",
    "        else:\n",
    "            print('TIE!')\n",
    "            # This occurs when the cards are equal.\n",
    "            # We'll grab another card each and continue the current war.\n",
    "            \n",
    "            # First check to see if player has enough cards\n",
    "            \n",
    "                                               \n",
    "            if len(player_one.all_cards) < 5:   # Check to see if a player is out of cards:\n",
    "                print(\"Player One out of cards, unable to play war! Game Over at War\")\n",
    "                print(\"Player Two Win! Player One Loses!\")\n",
    "                game_on = False\n",
    "                break\n",
    "\n",
    "            elif len(player_two.all_cards) < 5:   # Check to see if a player is out of cards:\n",
    "                print(\"Player Two  out of cards, unable to play war! Game Over at War\")\n",
    "                print(\"Player One Win! Player One Loses!\")\n",
    "                game_on = False\n",
    "                break\n",
    "            # Otherwise, we're still at war, so we'll add the next cards  \n",
    "            else:\n",
    "                for num in range(5):\n",
    "                    player_one_cards.append(player_one.remove_one())\n",
    "                    player_two_cards.append(player_two.remove_one())\n",
    "\n",
    "        "
   ]
  },
  {
   "cell_type": "code",
   "execution_count": null,
   "metadata": {},
   "outputs": [],
   "source": []
  }
 ],
 "metadata": {
  "kernelspec": {
   "display_name": "Python 3",
   "language": "python",
   "name": "python3"
  },
  "language_info": {
   "codemirror_mode": {
    "name": "ipython",
    "version": 3
   },
   "file_extension": ".py",
   "mimetype": "text/x-python",
   "name": "python",
   "nbconvert_exporter": "python",
   "pygments_lexer": "ipython3",
   "version": "3.7.6"
  }
 },
 "nbformat": 4,
 "nbformat_minor": 4
}
